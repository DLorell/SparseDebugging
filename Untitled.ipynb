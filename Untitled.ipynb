{
 "cells": [
  {
   "cell_type": "code",
   "execution_count": 35,
   "metadata": {},
   "outputs": [
    {
     "data": {
      "text/plain": [
       "<torch._C.Generator at 0x7fd400058eb0>"
      ]
     },
     "execution_count": 35,
     "metadata": {},
     "output_type": "execute_result"
    }
   ],
   "source": [
    "import torch\n",
    "import torch.nn as nn\n",
    "import copy\n",
    "torch.manual_seed(0)"
   ]
  },
  {
   "cell_type": "code",
   "execution_count": 63,
   "metadata": {},
   "outputs": [],
   "source": [
    "class Net(nn.Module):\n",
    "    def __init__(self):\n",
    "        super().__init__()\n",
    "        \n",
    "        self.conv0 = nn.Conv2d(3, 16, kernel_size=3, padding=1)\n",
    "        self.conv1 = nn.Conv2d(16, 32, kernel_size=3, padding=1)\n",
    "        self.conv2 = nn.Conv2d(32, 64, kernel_size=3, padding=1)\n",
    "        \n",
    "        \n",
    "    def forward(self, x):\n",
    "        \n",
    "        aux = x.detach().clone()\n",
    "        aux0 = self.conv0(aux)\n",
    "        x = self.conv0(x)\n",
    "        \n",
    "        aux = x.detach().clone()\n",
    "        aux1 = self.conv1(aux)\n",
    "        x = self.conv1(x)\n",
    "        \n",
    "        aux = x.detach().clone()\n",
    "        aux2 = self.conv2(aux)\n",
    "        x = self.conv2(x)\n",
    "        \n",
    "        \n",
    "        aux_losses = [torch.mean(a) for a in [aux0, aux1, aux2]]\n",
    "        primary_loss = torch.mean(x)\n",
    "        \n",
    "        return primary_loss, aux_losses\n",
    "    \n",
    "    def forward_iterate(self, x):\n",
    "        \n",
    "        for conv in [self.conv0, self.conv1, self.conv2]:\n",
    "            aux = x.detach().clone()\n",
    "            aux_loss = torch.mean(conv(aux))\n",
    "            x = conv(x)\n",
    "            yield aux_loss\n",
    "    \n",
    "    \n",
    "    def print_norms(self):\n",
    "        norms = \"\"\n",
    "        for i, conv in enumerate([self.conv0, self.conv1, self.conv2]):\n",
    "            norms += \"  Conv{}: \".format(i) + str(torch.norm(conv.weight, p='fro').item())\n",
    "        print(norms)\n",
    "    \n",
    "    def print_grad_norms(self):\n",
    "        norms = \"\"\n",
    "        for i, conv in enumerate([self.conv0, self.conv1, self.conv2]):\n",
    "            norm = torch.norm(conv.weight.grad, p='fro').item() if conv.weight.grad is not None else \"None\"\n",
    "            norms += \"  Conv{}: \".format(i) + str(norm)\n",
    "        print(norms)\n",
    "            \n",
    "        "
   ]
  },
  {
   "cell_type": "code",
   "execution_count": null,
   "metadata": {},
   "outputs": [],
   "source": []
  },
  {
   "cell_type": "code",
   "execution_count": 48,
   "metadata": {},
   "outputs": [],
   "source": [
    "input = torch.rand((128, 3, 32, 32))"
   ]
  },
  {
   "cell_type": "code",
   "execution_count": 64,
   "metadata": {},
   "outputs": [],
   "source": [
    "net1 = Net()\n",
    "net2 = copy.deepcopy(net1)\n",
    "\n",
    "optimizer1 = torch.optim.SGD(net1.parameters(), lr=0.1, momentum=0.9, nesterov=True, weight_decay=5e-4)\n",
    "optimizer2 = torch.optim.SGD(net2.parameters(), lr=0.1, momentum=0.9, nesterov=True, weight_decay=5e-4)"
   ]
  },
  {
   "cell_type": "code",
   "execution_count": 65,
   "metadata": {},
   "outputs": [
    {
     "name": "stdout",
     "output_type": "stream",
     "text": [
      "Stepping loss 0\n",
      "Stepping loss 1\n",
      "Stepping loss 2\n",
      "NET 1:\n",
      "  Conv0: 2.326932191848755  Conv1: 3.2559821605682373  Conv2: 4.590390205383301\n",
      "  Conv0: 0.20728228986263275  Conv1: 0.18254031240940094  Conv2: 0.10456957668066025\n",
      "NET 2:\n",
      "  Conv0: 2.326932191848755  Conv1: 3.2559821605682373  Conv2: 4.590390205383301\n",
      "  Conv0: None  Conv1: None  Conv2: 0.10456957668066025\n",
      "Stepping loss 0\n",
      "Stepping loss 1\n",
      "Stepping loss 2\n",
      "NET 1:\n",
      "  Conv0: 2.327664613723755  Conv1: 3.255280017852783  Conv2: 4.589842319488525\n",
      "  Conv0: 0.20728228986263275  Conv1: 0.18561454117298126  Conv2: 0.10101107507944107\n",
      "NET 2:\n",
      "  Conv0: 2.327664613723755  Conv1: 3.255280017852783  Conv2: 4.589842319488525\n",
      "  Conv0: None  Conv1: None  Conv2: 0.10101107507944107\n",
      "Stepping loss 0\n",
      "Stepping loss 1\n",
      "Stepping loss 2\n",
      "NET 1:\n",
      "  Conv0: 2.3305435180664062  Conv1: 3.2556495666503906  Conv2: 4.58942985534668\n",
      "  Conv0: 0.20728228986263275  Conv1: 0.19335055351257324  Conv2: 0.10289294272661209\n",
      "NET 2:\n",
      "  Conv0: 2.3305435180664062  Conv1: 3.2556495666503906  Conv2: 4.58942985534668\n",
      "  Conv0: None  Conv1: None  Conv2: 0.10289294272661209\n"
     ]
    }
   ],
   "source": [
    "\n",
    "torch.autograd.set_detect_anomaly(True)\n",
    "\n",
    "for i in range(3):\n",
    "    primary_loss1, aux_losses1 = net1(input)\n",
    "\n",
    "    trained_loss1 = torch.mean(torch.stack(aux_losses1))\n",
    "    optimizer1.zero_grad()\n",
    "    trained_loss1.backward()\n",
    "    optimizer1.step()\n",
    "    \n",
    "    \n",
    "    num_losses = 3\n",
    "    for j, loss in enumerate(net2.forward_iterate(input)):\n",
    "        loss = loss / num_losses\n",
    "        \n",
    "        print(\"Stepping loss {}\".format(j))\n",
    "        \n",
    "        for p in net2.parameters():\n",
    "            p.grad = None\n",
    "            \n",
    "        loss.backward()\n",
    "        optimizer2.step()\n",
    "        \n",
    "    print(\"NET 1:\")\n",
    "    net1.print_norms()\n",
    "    net1.print_grad_norms()\n",
    "    \n",
    "    print(\"NET 2:\")\n",
    "    net2.print_norms()\n",
    "    net2.print_grad_norms()\n",
    "    \n",
    "    \n",
    "    "
   ]
  },
  {
   "cell_type": "code",
   "execution_count": null,
   "metadata": {},
   "outputs": [],
   "source": []
  },
  {
   "cell_type": "code",
   "execution_count": null,
   "metadata": {},
   "outputs": [],
   "source": [
    "No aux path: 3443\n"
   ]
  },
  {
   "cell_type": "code",
   "execution_count": null,
   "metadata": {},
   "outputs": [],
   "source": []
  },
  {
   "cell_type": "code",
   "execution_count": null,
   "metadata": {},
   "outputs": [],
   "source": []
  },
  {
   "cell_type": "code",
   "execution_count": null,
   "metadata": {},
   "outputs": [],
   "source": []
  },
  {
   "cell_type": "code",
   "execution_count": null,
   "metadata": {},
   "outputs": [],
   "source": []
  },
  {
   "cell_type": "code",
   "execution_count": null,
   "metadata": {},
   "outputs": [],
   "source": [
    "\n",
    "\n",
    "\n",
    "\n",
    "\n",
    "\n",
    "\n",
    "\n",
    "\n",
    "\n",
    "\n",
    "\n",
    "\n",
    "\n",
    "\n",
    "\n",
    "\n",
    "\n",
    "\n",
    "\n",
    "\n",
    "\n",
    "\n",
    "\n",
    "\n",
    "\n",
    "\n",
    "\n"
   ]
  }
 ],
 "metadata": {
  "kernelspec": {
   "display_name": "Python 3.8.2 64-bit ('sparsecoding': conda)",
   "language": "python",
   "name": "python38264bitsparsecodingcondaac6954eadedd4738b7c07d25c85e9b01"
  },
  "language_info": {
   "codemirror_mode": {
    "name": "ipython",
    "version": 3
   },
   "file_extension": ".py",
   "mimetype": "text/x-python",
   "name": "python",
   "nbconvert_exporter": "python",
   "pygments_lexer": "ipython3",
   "version": "3.8.2"
  }
 },
 "nbformat": 4,
 "nbformat_minor": 2
}
